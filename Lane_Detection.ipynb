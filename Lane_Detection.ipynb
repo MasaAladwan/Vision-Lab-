{
 "cells": [
  {
   "cell_type": "code",
   "execution_count": null,
   "outputs": [],
   "source": [
    "import cv2\n",
    "import numpy as np\n",
    "\n",
    "# Open the test image\n",
    "image = cv2.imread('test_image.jpeg')\n",
    "\n",
    "# Convert the image to grayscale\n",
    "gray_image = cv2.cvtColor(image, cv2.COLOR_BGR2GRAY)\n",
    "\n",
    "# Create Sobel kernels for horizontal and vertical gradients\n",
    "sobel_x = np.array([[-1, 0, 1], [-2, 0, 2], [-1, 0, 1]])\n",
    "sobel_y = np.array([[-1, -2, -1], [0, 0, 0], [1, 2, 1]])\n",
    "\n",
    "# Initialize an output image\n",
    "output_image = np.zeros_like(gray_image)\n",
    "\n",
    "# Loop through all pixels in the image\n",
    "for y in range(1, gray_image.shape[0] - 1):\n",
    "    for x in range(1, gray_image.shape[1] - 1):\n",
    "        # Read the pixel values around the current position\n",
    "        pixel_values = gray_image[y-1:y+2, x-1:x+2]\n",
    "\n",
    "        # Calculate the gradients using the Sobel kernels\n",
    "        gradient_x = np.sum(sobel_x * pixel_values)\n",
    "        gradient_y = np.sum(sobel_y * pixel_values)\n",
    "\n",
    "        # Combine the gradients to get the magnitude\n",
    "        gradient_magnitude = np.sqrt(gradient_x**2 + gradient_y**2)\n",
    "\n",
    "        # Normalize and invert the colors\n",
    "        normalized_gradient = (255 - gradient_magnitude).astype(np.uint8)\n",
    "\n",
    "        # Write the resulting value to the output image\n",
    "        output_image[y, x] = normalized_gradient\n",
    "\n",
    "# Save the output image\n",
    "cv2.imwrite('outputimage.jpg', output_image)\n",
    "cv2.imshow('test_image', image)\n",
    "##Load an image from file\n",
    "image = cv2.imread('outputimage.jpg')\n",
    "cv2.imshow('Image', image)\n",
    "\n",
    "# Wait for a key press and close the window when a key is pressed\n",
    "cv2.waitKey(0)\n",
    "cv2.destroyAllWindows()\n"
   ],
   "metadata": {
    "collapsed": false,
    "is_executing": true,
    "ExecuteTime": {
     "start_time": "2023-10-23T17:36:00.763104Z"
    }
   },
   "id": "bb7bc0ccb74aa30f"
  },
  {
   "cell_type": "code",
   "execution_count": null,
   "outputs": [],
   "source": [],
   "metadata": {
    "collapsed": false
   },
   "id": "686b68a7463eff7c"
  }
 ],
 "metadata": {
  "kernelspec": {
   "display_name": "Python 3",
   "language": "python",
   "name": "python3"
  },
  "language_info": {
   "codemirror_mode": {
    "name": "ipython",
    "version": 2
   },
   "file_extension": ".py",
   "mimetype": "text/x-python",
   "name": "python",
   "nbconvert_exporter": "python",
   "pygments_lexer": "ipython2",
   "version": "2.7.6"
  }
 },
 "nbformat": 4,
 "nbformat_minor": 5
}
