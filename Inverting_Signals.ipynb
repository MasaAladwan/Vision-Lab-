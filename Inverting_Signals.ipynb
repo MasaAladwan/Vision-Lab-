{
 "cells": [
  {
   "cell_type": "code",
   "execution_count": null,
   "id": "initial_id",
   "metadata": {
    "collapsed": true,
    "is_executing": true,
    "ExecuteTime": {
     "start_time": "2023-10-23T17:35:30.053416Z"
    }
   },
   "outputs": [],
   "source": [
    "import numpy as np\n",
    "import cv2 as cv\n",
    "\n",
    "# Load the input image\n",
    "input_image = cv.imread(\"test_image.jpeg\")\n",
    "\n",
    "\n",
    "# Invert the image using NumPy vectorized operations\n",
    "inverted_image = 255 - input_image\n",
    "\n",
    "# Display the inverted image\n",
    "cv.imshow(\"Inverted Image\", inverted_image)\n",
    "\n",
    "# Save the inverted image\n",
    "cv.imwrite(\"InvertedImage.png\", inverted_image)\n",
    "cv.imshow('Image', input_image)\n",
    "# Wait for a key press and close the window\n",
    "cv.waitKey(0)\n",
    "cv.destroyAllWindows()\n"
   ]
  },
  {
   "cell_type": "code",
   "execution_count": null,
   "outputs": [],
   "source": [],
   "metadata": {
    "collapsed": false
   },
   "id": "5013f7a95964db0"
  }
 ],
 "metadata": {
  "kernelspec": {
   "display_name": "Python 3",
   "language": "python",
   "name": "python3"
  },
  "language_info": {
   "codemirror_mode": {
    "name": "ipython",
    "version": 2
   },
   "file_extension": ".py",
   "mimetype": "text/x-python",
   "name": "python",
   "nbconvert_exporter": "python",
   "pygments_lexer": "ipython2",
   "version": "2.7.6"
  }
 },
 "nbformat": 4,
 "nbformat_minor": 5
}
